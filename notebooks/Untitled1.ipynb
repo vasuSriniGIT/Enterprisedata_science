{
 "cells": [
  {
   "cell_type": "markdown",
   "id": "9c18ec9a",
   "metadata": {},
   "source": [
    "# Enterprise Datascience First Project Delivery"
   ]
  },
  {
   "cell_type": "markdown",
   "id": "1fea831f",
   "metadata": {},
   "source": [
    "Preface: To plot graphs of Covid cases(Normalized) for three given countries(Personal Choice)\n"
   ]
  },
  {
   "cell_type": "code",
   "execution_count": 3,
   "id": "47942d13",
   "metadata": {},
   "outputs": [],
   "source": [
    "import matplotlib.pyplot as plt\n",
    "import pandas as pd\n",
    "import numpy as np\n",
    "from datetime import datetime\n",
    "import os\n",
    "from os.path import dirname as pDir\n",
    "from os.path import join as pJoin\n",
    "\n",
    "\n",
    "\n",
    "pd.set_option('display.max_rows',500)\n",
    "\n",
    "parentDirectoryMain = pDir(pDir(os.path.abspath('__file__')))"
   ]
  },
  {
   "cell_type": "code",
   "execution_count": null,
   "id": "5bfebfee",
   "metadata": {},
   "outputs": [],
   "source": []
  },
  {
   "cell_type": "markdown",
   "id": "b00d7518",
   "metadata": {},
   "source": [
    "Main Initialization Variables:"
   ]
  },
  {
   "cell_type": "code",
   "execution_count": 4,
   "id": "cc8fc70b",
   "metadata": {},
   "outputs": [],
   "source": [
    "country_selected = ['China','US','Germany']"
   ]
  },
  {
   "cell_type": "code",
   "execution_count": null,
   "id": "1b2dee71",
   "metadata": {},
   "outputs": [],
   "source": []
  }
 ],
 "metadata": {
  "kernelspec": {
   "display_name": "Python 3 (ipykernel)",
   "language": "python",
   "name": "python3"
  },
  "language_info": {
   "codemirror_mode": {
    "name": "ipython",
    "version": 3
   },
   "file_extension": ".py",
   "mimetype": "text/x-python",
   "name": "python",
   "nbconvert_exporter": "python",
   "pygments_lexer": "ipython3",
   "version": "3.9.7"
  }
 },
 "nbformat": 4,
 "nbformat_minor": 5
}
